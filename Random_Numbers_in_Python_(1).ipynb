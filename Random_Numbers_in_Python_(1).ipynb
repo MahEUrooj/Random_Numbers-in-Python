{
  "cells": [
    {
      "cell_type": "code",
      "execution_count": null,
      "id": "bb9b8629",
      "metadata": {
        "id": "bb9b8629",
        "outputId": "5014f4ad-e959-4313-d360-716d3086ef14"
      },
      "outputs": [
        {
          "name": "stdout",
          "output_type": "stream",
          "text": [
            "3\n"
          ]
        }
      ],
      "source": [
        "import random\n",
        "x= [1,2,3,5,9]\n",
        "print (random.choice(x))"
      ]
    },
    {
      "cell_type": "code",
      "execution_count": null,
      "id": "8a865d60",
      "metadata": {
        "id": "8a865d60",
        "outputId": "709be9da-148e-476a-c58d-f312bd53f93b"
      },
      "outputs": [
        {
          "name": "stdout",
          "output_type": "stream",
          "text": [
            "i\n"
          ]
        }
      ],
      "source": [
        "import random\n",
        "x='A string'\n",
        "print (random.choice(x))"
      ]
    },
    {
      "cell_type": "code",
      "execution_count": null,
      "id": "1caac6f6",
      "metadata": {
        "id": "1caac6f6",
        "outputId": "0436ab78-ae87-4ede-eb38-14ba3a16d572"
      },
      "outputs": [
        {
          "name": "stdout",
          "output_type": "stream",
          "text": [
            "938\n"
          ]
        }
      ],
      "source": [
        "import random\n",
        "print (random.randrange(100,1000,2))"
      ]
    },
    {
      "cell_type": "code",
      "execution_count": null,
      "id": "46b876a6",
      "metadata": {
        "id": "46b876a6",
        "outputId": "8b0fae59-4e27-4bbc-cdef-e98672043d49"
      },
      "outputs": [
        {
          "name": "stdout",
          "output_type": "stream",
          "text": [
            "rand range value=  842\n"
          ]
        }
      ],
      "source": [
        "import random\n",
        "print (\"rand range value= \", random.randrange(100,1000))"
      ]
    },
    {
      "cell_type": "code",
      "execution_count": null,
      "id": "50211d4c",
      "metadata": {
        "id": "50211d4c",
        "outputId": "6baa9628-ee87-4c0b-d5a1-4406cfd9f007"
      },
      "outputs": [
        {
          "name": "stdout",
          "output_type": "stream",
          "text": [
            "Random value=  0.21596868992392027\n"
          ]
        }
      ],
      "source": [
        "import random\n",
        "print(\"Random value= \", random.random())"
      ]
    },
    {
      "cell_type": "code",
      "execution_count": null,
      "id": "4e182442",
      "metadata": {
        "id": "4e182442",
        "outputId": "dd658a01-608d-424c-9864-9e7f74b8c160"
      },
      "outputs": [
        {
          "name": "stdout",
          "output_type": "stream",
          "text": [
            "random value=  0.23512157368193265\n"
          ]
        }
      ],
      "source": [
        "import random \n",
        "print (\"random value= \", random.random())"
      ]
    },
    {
      "cell_type": "code",
      "execution_count": null,
      "id": "ce941b5d",
      "metadata": {
        "id": "ce941b5d",
        "outputId": "95cd81dc-b6e0-4d35-8beb-519f1f04a0be"
      },
      "outputs": [
        {
          "name": "stdout",
          "output_type": "stream",
          "text": [
            "Random float number=  9.682100352467504\n"
          ]
        }
      ],
      "source": [
        "import random\n",
        "print (\"Random float number= \", random.uniform(7,14))"
      ]
    },
    {
      "cell_type": "code",
      "execution_count": null,
      "id": "13e20c9a",
      "metadata": {
        "id": "13e20c9a",
        "outputId": "827f76b4-a9c3-4f82-e850-3b929992208c"
      },
      "outputs": [
        {
          "name": "stdout",
          "output_type": "stream",
          "text": [
            "Random number with seed 5:  0.6229016948897019\n",
            "Random number with seed 10:  0.5714025946899135\n"
          ]
        }
      ],
      "source": [
        "import random\n",
        "random.seed(5)\n",
        "print(\"Random number with seed 5: \", random.random())\n",
        "random.seed(10)\n",
        "print(\"Random number with seed 10: \",random.random())"
      ]
    },
    {
      "cell_type": "code",
      "execution_count": null,
      "id": "f9a7d691",
      "metadata": {
        "id": "f9a7d691"
      },
      "outputs": [],
      "source": [
        ""
      ]
    },
    {
      "cell_type": "code",
      "execution_count": null,
      "id": "9bb55b6a",
      "metadata": {
        "id": "9bb55b6a"
      },
      "outputs": [],
      "source": [
        ""
      ]
    },
    {
      "cell_type": "code",
      "execution_count": null,
      "id": "df214b0f",
      "metadata": {
        "id": "df214b0f"
      },
      "outputs": [],
      "source": [
        ""
      ]
    }
  ],
  "metadata": {
    "kernelspec": {
      "display_name": "Python 3 (ipykernel)",
      "language": "python",
      "name": "python3"
    },
    "language_info": {
      "codemirror_mode": {
        "name": "ipython",
        "version": 3
      },
      "file_extension": ".py",
      "mimetype": "text/x-python",
      "name": "python",
      "nbconvert_exporter": "python",
      "pygments_lexer": "ipython3",
      "version": "3.9.7"
    },
    "colab": {
      "name": "Random Numbers in Python (1).ipynb",
      "provenance": []
    }
  },
  "nbformat": 4,
  "nbformat_minor": 5
}